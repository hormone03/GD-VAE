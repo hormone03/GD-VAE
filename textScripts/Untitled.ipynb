{
 "cells": [
  {
   "cell_type": "code",
   "execution_count": 1,
   "id": "6945910c",
   "metadata": {},
   "outputs": [],
   "source": [
    "import torch\n"
   ]
  },
  {
   "cell_type": "code",
   "execution_count": 3,
   "id": "c747b9e7",
   "metadata": {},
   "outputs": [
    {
     "name": "stdout",
     "output_type": "stream",
     "text": [
      "Collecting opencv-python\n",
      "  Using cached opencv_python-4.7.0.68-cp37-abi3-macosx_10_13_x86_64.whl (51.7 MB)\n",
      "Requirement already satisfied: numpy>=1.17.0 in /private/var/hormone03/opt/anaconda3/lib/python3.8/site-packages (from opencv-python) (1.19.0)\n",
      "Installing collected packages: opencv-python\n",
      "Successfully installed opencv-python-4.7.0.68\n"
     ]
    }
   ],
   "source": [
    "import sys\n",
    "!{sys.executable} -m pip install opencv-python\n"
   ]
  },
  {
   "cell_type": "code",
   "execution_count": 15,
   "id": "694c5012",
   "metadata": {},
   "outputs": [
    {
     "name": "stdout",
     "output_type": "stream",
     "text": [
      "Requirement already satisfied: opencv-python in /private/var/hormone03/opt/anaconda3/lib/python3.8/site-packages (4.7.0.68)\n",
      "Requirement already satisfied: numpy>=1.17.3 in /private/var/hormone03/opt/anaconda3/lib/python3.8/site-packages (from opencv-python) (1.19.0)\n"
     ]
    }
   ],
   "source": [
    "!python -m pip install opencv-python"
   ]
  },
  {
   "cell_type": "code",
   "execution_count": null,
   "id": "1141a74c",
   "metadata": {},
   "outputs": [
    {
     "name": "stdout",
     "output_type": "stream",
     "text": [
      "Running `brew update --auto-update`...\n",
      "\u001b[34m==>\u001b[0m \u001b[1mAuto-updated Homebrew!\u001b[0m\n",
      "Updated 1 tap (homebrew/cask).\n",
      "\n",
      "You have \u001b[1m9\u001b[0m outdated formulae and \u001b[1m1\u001b[0m outdated cask installed.\n",
      "You can upgrade them with \u001b[1mbrew upgrade\u001b[0m\n",
      "or list them with \u001b[1mbrew outdated\u001b[0m.\n",
      "\n",
      "libpng 1.6.37 is already installed but outdated (so it will be upgraded).\n",
      "\u001b[33mWarning:\u001b[0m You are using macOS 10.13.\n",
      "We (and Apple) do not provide support for this old version.\n",
      "It is expected behaviour that some formulae will fail to build in this old version.\n",
      "It is expected behaviour that Homebrew will be buggy and slow.\n",
      "Do not create any issues about this on Homebrew's GitHub repositories.\n",
      "Do not create any issues even if you think this message is unrelated.\n",
      "Any opened issues will be immediately closed without response.\n",
      "Do not ask for help from MacHomebrew on Twitter.\n",
      "You may ask for help in Homebrew's discussions but are unlikely to receive a response.\n",
      "Try to figure out the problem yourself and submit a fix as a pull request.\n",
      "We will review it but may or may not accept it.\n",
      "\n",
      "\u001b[32m==>\u001b[0m \u001b[1mFetching \u001b[32mjpeg\u001b[39m\u001b[0m\n",
      "\u001b[34m==>\u001b[0m \u001b[1mDownloading https://www.ijg.org/files/jpegsrc.v9e.tar.gz\u001b[0m\n",
      "Already downloaded: /var/hormone03/Library/Caches/Homebrew/downloads/25de84988519c1b0590b15a8078374419d0992e4c2aafe70b59c2a8fa6546bb0--jpegsrc.v9e.tar.gz\n",
      "\u001b[32m==>\u001b[0m \u001b[1mFetching \u001b[32mlibpng\u001b[39m\u001b[0m\n",
      "\u001b[34m==>\u001b[0m \u001b[1mDownloading https://downloads.sourceforge.net/project/libpng/libpng16/1.6.39\u001b[0m\n",
      "\u001b[34m==>\u001b[0m \u001b[1mDownloading from https://phoenixnap.dl.sourceforge.net/project/libpng/libpng\u001b[0m\n",
      "######################################################################## 100.0%\n",
      "\u001b[32m==>\u001b[0m \u001b[1mFetching dependencies for libtiff: \u001b[32mcmake\u001b[39m, \u001b[32mnasm\u001b[39m, \u001b[32mjpeg-turbo\u001b[39m, \u001b[32mlz4\u001b[39m, \u001b[32mxz\u001b[39m and \u001b[32mzstd\u001b[39m\u001b[0m\n",
      "\u001b[32m==>\u001b[0m \u001b[1mFetching \u001b[32mcmake\u001b[39m\u001b[0m\n",
      "\u001b[34m==>\u001b[0m \u001b[1mDownloading https://github.com/Kitware/CMake/releases/download/v3.25.2/cmake\u001b[0m\n",
      "\u001b[34m==>\u001b[0m \u001b[1mDownloading from https://objects.githubusercontent.com/github-production-rel\u001b[0m\n",
      "######################################################################## 100.0%\n",
      "\u001b[32m==>\u001b[0m \u001b[1mFetching \u001b[32mnasm\u001b[39m\u001b[0m\n",
      "\u001b[34m==>\u001b[0m \u001b[1mDownloading https://www.nasm.us/pub/nasm/releasebuilds/2.16.01/nasm-2.16.01.\u001b[0m\n",
      "######################################################################## 100.0%\n",
      "\u001b[32m==>\u001b[0m \u001b[1mFetching \u001b[32mjpeg-turbo\u001b[39m\u001b[0m\n",
      "\u001b[34m==>\u001b[0m \u001b[1mDownloading https://downloads.sourceforge.net/project/libjpeg-turbo/2.1.4/li\u001b[0m\n",
      "\u001b[34m==>\u001b[0m \u001b[1mDownloading from https://phoenixnap.dl.sourceforge.net/project/libjpeg-turbo\u001b[0m\n",
      "######################################################################## 100.0%\n",
      "\u001b[32m==>\u001b[0m \u001b[1mFetching \u001b[32mlz4\u001b[39m\u001b[0m\n",
      "\u001b[34m==>\u001b[0m \u001b[1mDownloading https://github.com/lz4/lz4/archive/v1.9.4.tar.gz\u001b[0m\n",
      "\u001b[34m==>\u001b[0m \u001b[1mDownloading from https://codeload.github.com/lz4/lz4/tar.gz/refs/tags/v1.9.4\u001b[0m\n",
      "######################################################################## 100.0%\n",
      "\u001b[32m==>\u001b[0m \u001b[1mFetching \u001b[32mxz\u001b[39m\u001b[0m\n",
      "\u001b[34m==>\u001b[0m \u001b[1mDownloading https://downloads.sourceforge.net/project/lzmautils/xz-5.4.1.tar\u001b[0m\n",
      "\u001b[34m==>\u001b[0m \u001b[1mDownloading from https://gigenet.dl.sourceforge.net/project/lzmautils/xz-5.4\u001b[0m\n",
      "######################################################################## 100.0%\n",
      "\u001b[32m==>\u001b[0m \u001b[1mFetching \u001b[32mzstd\u001b[39m\u001b[0m\n",
      "\u001b[34m==>\u001b[0m \u001b[1mDownloading https://github.com/facebook/zstd/archive/v1.5.2.tar.gz\u001b[0m\n",
      "\u001b[34m==>\u001b[0m \u001b[1mDownloading from https://codeload.github.com/facebook/zstd/tar.gz/refs/tags/\u001b[0m\n",
      "######################################################################## 100.0%\n",
      "\u001b[32m==>\u001b[0m \u001b[1mFetching \u001b[32mlibtiff\u001b[39m\u001b[0m\n",
      "\u001b[34m==>\u001b[0m \u001b[1mDownloading https://download.osgeo.org/libtiff/tiff-4.4.0.tar.gz\u001b[0m\n",
      "Already downloaded: /var/hormone03/Library/Caches/Homebrew/downloads/2d1e7d585178e068bf7018634138de0927225ef671f1c44ab37eb307aa3dd67e--tiff-4.4.0.tar.gz\n",
      "\u001b[32m==>\u001b[0m \u001b[1mFetching dependencies for openexr: \u001b[32mimath\u001b[39m\u001b[0m\n",
      "\u001b[32m==>\u001b[0m \u001b[1mFetching \u001b[32mimath\u001b[39m\u001b[0m\n",
      "\u001b[34m==>\u001b[0m \u001b[1mDownloading https://github.com/AcademySoftwareFoundation/Imath/archive/refs/\u001b[0m\n",
      "\u001b[34m==>\u001b[0m \u001b[1mDownloading from https://codeload.github.com/AcademySoftwareFoundation/Imath\u001b[0m\n",
      "######################################################################## 100.0%\n",
      "\u001b[32m==>\u001b[0m \u001b[1mFetching \u001b[32mopenexr\u001b[39m\u001b[0m\n",
      "\u001b[34m==>\u001b[0m \u001b[1mDownloading https://github.com/AcademySoftwareFoundation/openexr-images/raw/\u001b[0m\n",
      "Already downloaded: /var/hormone03/Library/Caches/Homebrew/downloads/94dcdf03364ff2a8edee9f8b3a0f4e8d6ba1115bb47f502f2c1b5bf824c583f4--AllHalfValues.exr\n",
      "\u001b[34m==>\u001b[0m \u001b[1mDownloading https://github.com/AcademySoftwareFoundation/openexr/archive/v3.\u001b[0m\n",
      "Already downloaded: /var/hormone03/Library/Caches/Homebrew/downloads/5e1baac0ed7722960ccb1a7eb3bd294e4729feed221a660b1813737072da81de--openexr-3.1.5.tar.gz\n",
      "\u001b[34m==>\u001b[0m \u001b[1m./configure --prefix=/usr/local/Cellar/jpeg/9e --libdir=/usr/local/Cellar/jp\u001b[0m\n",
      "\u001b[34m==>\u001b[0m \u001b[1mmake install\u001b[0m\n",
      "\u001b[34m==>\u001b[0m \u001b[1mCaveats\u001b[0m\n",
      "jpeg is keg-only, which means it was not symlinked into /usr/local,\n",
      "because it conflicts with `jpeg-turbo`.\n",
      "\n",
      "If you need to have jpeg first in your PATH, run:\n",
      "  echo 'export PATH=\"/usr/local/opt/jpeg/bin:$PATH\"' >> /var/hormone03/.bash_profile\n",
      "\n",
      "For compilers to find jpeg you may need to set:\n",
      "  export LDFLAGS=\"-L/usr/local/opt/jpeg/lib\"\n",
      "  export CPPFLAGS=\"-I/usr/local/opt/jpeg/include\"\n",
      "\n",
      "For pkg-config to find jpeg you may need to set:\n",
      "  export PKG_CONFIG_PATH=\"/usr/local/opt/jpeg/lib/pkgconfig\"\n",
      "\n",
      "\u001b[34m==>\u001b[0m \u001b[1mSummary\u001b[0m\n",
      "🍺  /usr/local/Cellar/jpeg/9e: 21 files, 743.3KB, built in 24 seconds\n",
      "\u001b[34m==>\u001b[0m \u001b[1mRunning `brew cleanup jpeg`...\u001b[0m\n",
      "Disable this behaviour by setting HOMEBREW_NO_INSTALL_CLEANUP.\n",
      "Hide these hints with HOMEBREW_NO_ENV_HINTS (see `man brew`).\n",
      "Removing: /var/hormone03/Library/Caches/Homebrew/jpeg--9e.tar.gz... (1022.4KB)\n",
      "\u001b[32m==>\u001b[0m \u001b[1mUpgrading \u001b[32mlibpng\u001b[39m\n",
      "  1.6.37 -> 1.6.39 \n",
      "\u001b[0m\n",
      "\u001b[34m==>\u001b[0m \u001b[1m./configure --prefix=/usr/local/Cellar/libpng/1.6.39\u001b[0m\n",
      "\u001b[34m==>\u001b[0m \u001b[1mmake\u001b[0m\n",
      "\u001b[34m==>\u001b[0m \u001b[1mmake test\u001b[0m\n",
      "\u001b[34m==>\u001b[0m \u001b[1mmake install\u001b[0m\n",
      "🍺  /usr/local/Cellar/libpng/1.6.39: 27 files, 1.2MB, built in 1 minute 16 seconds\n",
      "\u001b[34m==>\u001b[0m \u001b[1mRunning `brew cleanup libpng`...\u001b[0m\n",
      "Removing: /usr/local/Cellar/libpng/1.6.37... (27 files, 1.2MB)\n",
      "\u001b[32m==>\u001b[0m \u001b[1mInstalling dependencies for libtiff: \u001b[32mcmake\u001b[39m, \u001b[32mnasm\u001b[39m, \u001b[32mjpeg-turbo\u001b[39m, \u001b[32mlz4\u001b[39m, \u001b[32mxz\u001b[39m and \u001b[32mzstd\u001b[39m\u001b[0m\n",
      "\u001b[32m==>\u001b[0m \u001b[1mInstalling libtiff dependency: \u001b[32mcmake\u001b[39m\u001b[0m\n"
     ]
    }
   ],
   "source": [
    "!brew install jpeg libpng libtiff openexr"
   ]
  },
  {
   "cell_type": "code",
   "execution_count": 16,
   "id": "65f78f52",
   "metadata": {
    "scrolled": false
   },
   "outputs": [
    {
     "ename": "ImportError",
     "evalue": "dlopen(/private/var/hormone03/opt/anaconda3/lib/python3.8/site-packages/cv2/cv2.abi3.so, 2): Symbol not found: ____chkstk_darwin\n  Referenced from: /private/var/hormone03/opt/anaconda3/lib/python3.8/site-packages/cv2/.dylibs/libX11.6.dylib (which was built for Mac OS X 11.0)\n  Expected in: /usr/lib/libSystem.B.dylib\n in /private/var/hormone03/opt/anaconda3/lib/python3.8/site-packages/cv2/.dylibs/libX11.6.dylib",
     "output_type": "error",
     "traceback": [
      "\u001b[0;31m---------------------------------------------------------------------------\u001b[0m",
      "\u001b[0;31mImportError\u001b[0m                               Traceback (most recent call last)",
      "\u001b[0;32m<ipython-input-16-9458db612e9e>\u001b[0m in \u001b[0;36m<module>\u001b[0;34m\u001b[0m\n\u001b[0;32m----> 1\u001b[0;31m \u001b[0;32mimport\u001b[0m \u001b[0mcv2\u001b[0m \u001b[0;32mas\u001b[0m \u001b[0mcv\u001b[0m\u001b[0;34m\u001b[0m\u001b[0;34m\u001b[0m\u001b[0m\n\u001b[0m",
      "\u001b[0;31mImportError\u001b[0m: dlopen(/private/var/hormone03/opt/anaconda3/lib/python3.8/site-packages/cv2/cv2.abi3.so, 2): Symbol not found: ____chkstk_darwin\n  Referenced from: /private/var/hormone03/opt/anaconda3/lib/python3.8/site-packages/cv2/.dylibs/libX11.6.dylib (which was built for Mac OS X 11.0)\n  Expected in: /usr/lib/libSystem.B.dylib\n in /private/var/hormone03/opt/anaconda3/lib/python3.8/site-packages/cv2/.dylibs/libX11.6.dylib"
     ]
    }
   ],
   "source": [
    "import cv2 as cv"
   ]
  },
  {
   "cell_type": "code",
   "execution_count": null,
   "id": "aabb90cf",
   "metadata": {},
   "outputs": [],
   "source": []
  }
 ],
 "metadata": {
  "kernelspec": {
   "display_name": "Python 3",
   "language": "python",
   "name": "python3"
  },
  "language_info": {
   "codemirror_mode": {
    "name": "ipython",
    "version": 3
   },
   "file_extension": ".py",
   "mimetype": "text/x-python",
   "name": "python",
   "nbconvert_exporter": "python",
   "pygments_lexer": "ipython3",
   "version": "3.8.5"
  }
 },
 "nbformat": 4,
 "nbformat_minor": 5
}
